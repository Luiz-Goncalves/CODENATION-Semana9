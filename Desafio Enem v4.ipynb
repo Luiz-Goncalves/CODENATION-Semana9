{
 "cells": [
  {
   "cell_type": "code",
   "execution_count": 37,
   "metadata": {
    "ExecuteTime": {
     "end_time": "2020-08-09T15:51:21.209505Z",
     "start_time": "2020-08-09T15:51:21.156169Z"
    }
   },
   "outputs": [],
   "source": [
    "import pandas as pd\n",
    "import numpy as np\n",
    "from sklearn.preprocessing import StandardScaler\n",
    "from sklearn.tree import DecisionTreeClassifier\n",
    "from sklearn.model_selection import train_test_split\n",
    "from sklearn import metrics"
   ]
  },
  {
   "cell_type": "code",
   "execution_count": 20,
   "metadata": {
    "ExecuteTime": {
     "end_time": "2020-08-09T15:39:12.876521Z",
     "start_time": "2020-08-09T15:39:12.506678Z"
    }
   },
   "outputs": [],
   "source": [
    "df = pd.read_csv('C:\\\\Users\\\\Luiz Guilherme\\\\codenation\\\\enem-4\\\\train.CSV')"
   ]
  },
  {
   "cell_type": "code",
   "execution_count": 21,
   "metadata": {
    "ExecuteTime": {
     "end_time": "2020-08-09T15:39:14.597777Z",
     "start_time": "2020-08-09T15:39:14.544339Z"
    }
   },
   "outputs": [],
   "source": [
    "df_test = pd.read_csv('C:\\\\Users\\\\Luiz Guilherme\\\\codenation\\\\enem-4\\\\test.CSV')"
   ]
  },
  {
   "cell_type": "code",
   "execution_count": 22,
   "metadata": {
    "ExecuteTime": {
     "end_time": "2020-08-09T15:39:16.820820Z",
     "start_time": "2020-08-09T15:39:16.789571Z"
    }
   },
   "outputs": [],
   "source": [
    "colunas = list(df_test.columns)\n",
    "colunas.append('IN_TREINEIRO')\n",
    "df=df[colunas]"
   ]
  },
  {
   "cell_type": "code",
   "execution_count": 23,
   "metadata": {
    "ExecuteTime": {
     "end_time": "2020-08-09T15:39:18.827201Z",
     "start_time": "2020-08-09T15:39:18.780277Z"
    }
   },
   "outputs": [],
   "source": [
    "# Dropando colunas object desnecessárias\n",
    "df = df.drop(['NU_INSCRICAO','SG_UF_RESIDENCIA'],axis=1)\n",
    "\n",
    "# Dropando colunas com mais de 4000 valores faltantes\n",
    "df = df.drop(df.columns[df.isna().sum()>4000],axis=1)\n",
    "\n",
    "# Inputando 0 nos valores faltantes de notas\n",
    "df=df.fillna(0)"
   ]
  },
  {
   "cell_type": "code",
   "execution_count": 24,
   "metadata": {
    "ExecuteTime": {
     "end_time": "2020-08-09T15:39:21.304319Z",
     "start_time": "2020-08-09T15:39:21.150670Z"
    }
   },
   "outputs": [],
   "source": [
    "# Encoding\n",
    "df['TP_SEXO'] = df['TP_SEXO'].replace({'M':0, 'F':1})\n",
    "colunas = ['Q001','Q002','Q006','Q024','Q025','Q026','Q047']\n",
    "encoder = {'A':1,'B':2,'C':3,'D':4,'E':5,'F':6,'G':7,'H':8,'I':9,\n",
    "           'J':10,'K':11,'L':12,'M':13,'N':14,'O':15,'P':16,'Q':17}\n",
    "df[colunas] = df[colunas].replace(encoder)"
   ]
  },
  {
   "cell_type": "code",
   "execution_count": 26,
   "metadata": {
    "ExecuteTime": {
     "end_time": "2020-08-09T15:41:28.663067Z",
     "start_time": "2020-08-09T15:41:28.594002Z"
    }
   },
   "outputs": [],
   "source": [
    "X = df.drop(['IN_TREINEIRO'],axis=1)\n",
    "y = df['IN_TREINEIRO']\n",
    "scaler = StandardScaler()\n",
    "X = scaler.fit_transform(X)\n",
    "X = pd.DataFrame(X)\n",
    "X.columns = df.drop(['IN_TREINEIRO'],axis=1).columns"
   ]
  },
  {
   "cell_type": "code",
   "execution_count": 38,
   "metadata": {
    "ExecuteTime": {
     "end_time": "2020-08-09T15:52:18.370566Z",
     "start_time": "2020-08-09T15:52:18.339352Z"
    }
   },
   "outputs": [],
   "source": [
    "X_train, X_test, y_train, y_test = train_test_split(X, y, test_size=0.3, random_state=1)"
   ]
  },
  {
   "cell_type": "code",
   "execution_count": 43,
   "metadata": {
    "ExecuteTime": {
     "end_time": "2020-08-09T15:54:50.165221Z",
     "start_time": "2020-08-09T15:54:50.118340Z"
    }
   },
   "outputs": [
    {
     "name": "stdout",
     "output_type": "stream",
     "text": [
      "Accuracy: 0.9978150036416606\n"
     ]
    }
   ],
   "source": [
    "clf = DecisionTreeClassifier(criterion=\"entropy\", max_depth=3)\n",
    "clf = clf.fit(X_train,y_train)\n",
    "y_pred = clf.predict(X_test)\n",
    "print(\"Accuracy:\",metrics.accuracy_score(y_test, y_pred))"
   ]
  },
  {
   "cell_type": "code",
   "execution_count": 62,
   "metadata": {
    "ExecuteTime": {
     "end_time": "2020-08-09T16:07:36.409793Z",
     "start_time": "2020-08-09T16:07:36.278208Z"
    }
   },
   "outputs": [],
   "source": [
    "df_test = pd.read_csv('C:\\\\Users\\\\Luiz Guilherme\\\\codenation\\\\enem-4\\\\test.CSV')\n",
    "inscricao = df_test['NU_INSCRICAO']\n",
    "\n",
    "# Dropando colunas object desnecessárias\n",
    "df_test = df_test.drop(['NU_INSCRICAO','SG_UF_RESIDENCIA'],axis=1)\n",
    "\n",
    "# Dropando colunas com mais de 2000 valores faltantes\n",
    "df_test = df_test.drop(df_test.columns[df_test.isna().sum()>2000],axis=1)\n",
    "\n",
    "# Inputando 0 nos valores faltantes de notas\n",
    "df_test = df_test.fillna(0)\n",
    "\n",
    "# Encoding\n",
    "df_test['TP_SEXO'] = df_test['TP_SEXO'].replace({'M':0, 'F':1})\n",
    "colunas = ['Q001','Q002','Q006','Q024','Q025','Q026','Q047']\n",
    "encoder = {'A':1,'B':2,'C':3,'D':4,'E':5,'F':6,'G':7,'H':8,'I':9,\n",
    "           'J':10,'K':11,'L':12,'M':13,'N':14,'O':15,'P':16,'Q':17}\n",
    "df_test[colunas] = df_test[colunas].replace(encoder)\n",
    "\n",
    "df_test_scl = scaler.fit_transform(df_test)\n",
    "df_test_scl = pd.DataFrame(df_test_scl)\n",
    "df_test_scl.columns = df_test.columns"
   ]
  },
  {
   "cell_type": "code",
   "execution_count": 64,
   "metadata": {
    "ExecuteTime": {
     "end_time": "2020-08-09T16:09:03.141352Z",
     "start_time": "2020-08-09T16:09:03.110143Z"
    }
   },
   "outputs": [],
   "source": [
    "y_pred = clf.predict(df_test_scl)"
   ]
  },
  {
   "cell_type": "code",
   "execution_count": 68,
   "metadata": {
    "ExecuteTime": {
     "end_time": "2020-08-09T16:10:53.953698Z",
     "start_time": "2020-08-09T16:10:53.875598Z"
    }
   },
   "outputs": [
    {
     "data": {
      "text/html": [
       "<div>\n",
       "<style scoped>\n",
       "    .dataframe tbody tr th:only-of-type {\n",
       "        vertical-align: middle;\n",
       "    }\n",
       "\n",
       "    .dataframe tbody tr th {\n",
       "        vertical-align: top;\n",
       "    }\n",
       "\n",
       "    .dataframe thead th {\n",
       "        text-align: right;\n",
       "    }\n",
       "</style>\n",
       "<table border=\"1\" class=\"dataframe\">\n",
       "  <thead>\n",
       "    <tr style=\"text-align: right;\">\n",
       "      <th></th>\n",
       "      <th>NU_INSCRICAO</th>\n",
       "      <th>IN_TREINEIRO</th>\n",
       "    </tr>\n",
       "  </thead>\n",
       "  <tbody>\n",
       "    <tr>\n",
       "      <th>0</th>\n",
       "      <td>ba0cc30ba34e7a46764c09dfc38ed83d15828897</td>\n",
       "      <td>0</td>\n",
       "    </tr>\n",
       "    <tr>\n",
       "      <th>1</th>\n",
       "      <td>177f281c68fa032aedbd842a745da68490926cd2</td>\n",
       "      <td>0</td>\n",
       "    </tr>\n",
       "    <tr>\n",
       "      <th>2</th>\n",
       "      <td>6cf0d8b97597d7625cdedc7bdb6c0f052286c334</td>\n",
       "      <td>1</td>\n",
       "    </tr>\n",
       "    <tr>\n",
       "      <th>3</th>\n",
       "      <td>5c356d810fa57671402502cd0933e5601a2ebf1e</td>\n",
       "      <td>0</td>\n",
       "    </tr>\n",
       "    <tr>\n",
       "      <th>4</th>\n",
       "      <td>df47c07bd881c2db3f38c6048bf77c132ad0ceb3</td>\n",
       "      <td>0</td>\n",
       "    </tr>\n",
       "    <tr>\n",
       "      <th>...</th>\n",
       "      <td>...</td>\n",
       "      <td>...</td>\n",
       "    </tr>\n",
       "    <tr>\n",
       "      <th>4565</th>\n",
       "      <td>361b7fcd8867119550fe2af5aa729ffad89a7cf5</td>\n",
       "      <td>0</td>\n",
       "    </tr>\n",
       "    <tr>\n",
       "      <th>4566</th>\n",
       "      <td>d8a0e4c9e29494cc9bba2422bd79333931475ee1</td>\n",
       "      <td>0</td>\n",
       "    </tr>\n",
       "    <tr>\n",
       "      <th>4567</th>\n",
       "      <td>3f1c3388244df8d6521e983a809292d9f3bca643</td>\n",
       "      <td>0</td>\n",
       "    </tr>\n",
       "    <tr>\n",
       "      <th>4568</th>\n",
       "      <td>1778e9c4cef591beb6b986d191d15ed05de816b0</td>\n",
       "      <td>0</td>\n",
       "    </tr>\n",
       "    <tr>\n",
       "      <th>4569</th>\n",
       "      <td>096809759695097e384e766d2d9e23a34fc81610</td>\n",
       "      <td>0</td>\n",
       "    </tr>\n",
       "  </tbody>\n",
       "</table>\n",
       "<p>4570 rows × 2 columns</p>\n",
       "</div>"
      ],
      "text/plain": [
       "                                  NU_INSCRICAO  IN_TREINEIRO\n",
       "0     ba0cc30ba34e7a46764c09dfc38ed83d15828897             0\n",
       "1     177f281c68fa032aedbd842a745da68490926cd2             0\n",
       "2     6cf0d8b97597d7625cdedc7bdb6c0f052286c334             1\n",
       "3     5c356d810fa57671402502cd0933e5601a2ebf1e             0\n",
       "4     df47c07bd881c2db3f38c6048bf77c132ad0ceb3             0\n",
       "...                                        ...           ...\n",
       "4565  361b7fcd8867119550fe2af5aa729ffad89a7cf5             0\n",
       "4566  d8a0e4c9e29494cc9bba2422bd79333931475ee1             0\n",
       "4567  3f1c3388244df8d6521e983a809292d9f3bca643             0\n",
       "4568  1778e9c4cef591beb6b986d191d15ed05de816b0             0\n",
       "4569  096809759695097e384e766d2d9e23a34fc81610             0\n",
       "\n",
       "[4570 rows x 2 columns]"
      ]
     },
     "execution_count": 68,
     "metadata": {},
     "output_type": "execute_result"
    }
   ],
   "source": [
    "answer = pd.DataFrame({'NU_INSCRICAO':inscricao,'IN_TREINEIRO':y_pred})\n",
    "answer.to_csv('answer.csv', index=False)\n",
    "pd.read_csv('C:\\\\Users\\\\Luiz Guilherme\\\\codenation\\\\enem-4\\\\answer.csv')"
   ]
  }
 ],
 "metadata": {
  "kernelspec": {
   "display_name": "Python 3",
   "language": "python",
   "name": "python3"
  },
  "language_info": {
   "codemirror_mode": {
    "name": "ipython",
    "version": 3
   },
   "file_extension": ".py",
   "mimetype": "text/x-python",
   "name": "python",
   "nbconvert_exporter": "python",
   "pygments_lexer": "ipython3",
   "version": "3.8.5"
  },
  "toc": {
   "base_numbering": 1,
   "nav_menu": {},
   "number_sections": true,
   "sideBar": true,
   "skip_h1_title": false,
   "title_cell": "Table of Contents",
   "title_sidebar": "Contents",
   "toc_cell": false,
   "toc_position": {},
   "toc_section_display": true,
   "toc_window_display": false
  }
 },
 "nbformat": 4,
 "nbformat_minor": 4
}
